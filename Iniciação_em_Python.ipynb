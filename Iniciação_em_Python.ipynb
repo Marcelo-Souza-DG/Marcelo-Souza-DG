{
  "nbformat": 4,
  "nbformat_minor": 0,
  "metadata": {
    "colab": {
      "name": "Iniciação em Python",
      "provenance": [],
      "authorship_tag": "ABX9TyO9R6NxNZbNIm8B8yEbg9aU",
      "include_colab_link": true
    },
    "kernelspec": {
      "name": "python3",
      "display_name": "Python 3"
    },
    "language_info": {
      "name": "python"
    }
  },
  "cells": [
    {
      "cell_type": "markdown",
      "metadata": {
        "id": "view-in-github",
        "colab_type": "text"
      },
      "source": [
        "<a href=\"https://colab.research.google.com/github/Marcelo-Souza-DG/Marcelo-Souza-DG/blob/main/Inicia%C3%A7%C3%A3o_em_Python.ipynb\" target=\"_parent\"><img src=\"https://colab.research.google.com/assets/colab-badge.svg\" alt=\"Open In Colab\"/></a>"
      ]
    },
    {
      "cell_type": "code",
      "execution_count": null,
      "metadata": {
        "colab": {
          "base_uri": "https://localhost:8080/"
        },
        "id": "0sta-LQxjhYM",
        "outputId": "31c7cd0b-b969-466a-f2f9-676b3fcf7c20"
      },
      "outputs": [
        {
          "output_type": "stream",
          "name": "stdout",
          "text": [
            "Hi, gay! How is it a going?\n"
          ]
        }
      ],
      "source": [
        "print (\"Hi, gay! How is it a going?\")"
      ]
    },
    {
      "cell_type": "code",
      "source": [
        "a=1+1\n",
        "b=a+1000000000 \n",
        "if(b<=10):\n",
        "   (print(\"Comprar\"))\n",
        "else:(print(\"Vender\"))"
      ],
      "metadata": {
        "colab": {
          "base_uri": "https://localhost:8080/"
        },
        "id": "MjetfRP6ksdA",
        "outputId": "012bac11-c95b-41f7-a13d-d668cc588516"
      },
      "execution_count": 16,
      "outputs": [
        {
          "output_type": "stream",
          "name": "stdout",
          "text": [
            "Vender\n"
          ]
        }
      ]
    },
    {
      "cell_type": "code",
      "source": [
        "vendas = input(\"Digite o valor total das Vendas: \")\n",
        "print(vendas)\n",
        "comissao = float(vendas) * 1 / 100;\n",
        "print('Comissao = ', comissao)"
      ],
      "metadata": {
        "colab": {
          "base_uri": "https://localhost:8080/"
        },
        "id": "mOy4mCMFCYDe",
        "outputId": "2729f1e4-3721-498e-ffb2-478ccd40d0a9"
      },
      "execution_count": 15,
      "outputs": [
        {
          "output_type": "stream",
          "name": "stdout",
          "text": [
            "Digite o valor total das Vendas: 6500.59\n",
            "6500.59\n",
            "Comissao =  65.0059\n"
          ]
        }
      ]
    },
    {
      "cell_type": "code",
      "source": [
        "a = int(input(\"Digite o primeiro numero: \"))\n",
        "b = int(input(\"Digite o segundo numero: \"))\n",
        "print(a+b)"
      ],
      "metadata": {
        "colab": {
          "base_uri": "https://localhost:8080/"
        },
        "id": "4iUsKFbxID5m",
        "outputId": "0f6e11e7-8576-4676-e3c1-4785be742565"
      },
      "execution_count": 21,
      "outputs": [
        {
          "output_type": "stream",
          "name": "stdout",
          "text": [
            "Digite o primeiro numero: 5\n",
            "Digite o segundo numero: 6\n",
            "11\n"
          ]
        }
      ]
    }
  ]
}